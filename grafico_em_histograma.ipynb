{
  "nbformat": 4,
  "nbformat_minor": 0,
  "metadata": {
    "colab": {
      "name": "grafico em histograma",
      "provenance": [],
      "authorship_tag": "ABX9TyPu4VdVTBcBfKTkasgWONal",
      "include_colab_link": true
    },
    "kernelspec": {
      "name": "python3",
      "display_name": "Python 3"
    },
    "language_info": {
      "name": "python"
    }
  },
  "cells": [
    {
      "cell_type": "markdown",
      "metadata": {
        "id": "view-in-github",
        "colab_type": "text"
      },
      "source": [
        "<a href=\"https://colab.research.google.com/github/emanuelmad/Data_Science_projects/blob/main/grafico_em_histograma.ipynb\" target=\"_parent\"><img src=\"https://colab.research.google.com/assets/colab-badge.svg\" alt=\"Open In Colab\"/></a>"
      ]
    },
    {
      "cell_type": "markdown",
      "metadata": {
        "id": "eyC4jCjV2N2s"
      },
      "source": [
        "# Histograma\n",
        "\n",
        "O histograma também é conhecido como sendo um gráfico de distribuição de frequências. Representando essas frequências em formato de barras, a altura de cada barra pode representar tanto a quantidade ou frequência que cada classe de valores ocorre no *dataset*.\n",
        "\n",
        "Um histograma de valores absolutos, tem no eixo y a quantidade absoluta de ocorrências dos valores de cada classe:\n",
        "\n",
        "<center><img src=\"https://raw.githubusercontent.com/carlosfab/curso_data_science_na_pratica/master/modulo_03/histograma_absoluto.png\"width=\"450px\"></center>\n",
        "\n",
        "Já um histograma de dados de proporção, conhecido como histograma de área de unidade, exibe a proporção que cada classe representa no todo:\n",
        "\n",
        "<center><img src=\"https://raw.githubusercontent.com/carlosfab/curso_data_science_na_pratica/master/modulo_03/histograma_proporcao.png\"width=\"450px\"></center>\n",
        "\n",
        "\n",
        "Os histogramas fornecem muitas informações ao cientista de dados, pois mostra visualmente a distribuição dos dados relativos a uma determinada variável. Além disso, permite obter informações sobre a centralidade, amplitude e simetria da mesma.\n",
        "\n",
        "Recomendo assistir a [este vídeo](https://pt.khanacademy.org/math/ap-statistics/quantitative-data-ap/histograms-stem-leaf/v/histograms-intro) ensinando a criar e interpretar um histograma."
      ]
    },
    {
      "cell_type": "markdown",
      "metadata": {
        "id": "T0ZRw0wP2TGg"
      },
      "source": [
        "## Plotar o histograma\n",
        "\n",
        "Para exemplificar o gráfico de linhas, vou usar um *dataset* contendo o número de casos (mensal) de dengue para a cidade de Campinas-SP.\n",
        "\n",
        "Além do número de casos confirmados de dengue, o *dataset* mostra ainda dados relacionados à chuva, temperaturas média, mínima e máxima do município. O período contemplado pelo conjunto de dados é de 1998 a 2015."
      ]
    },
    {
      "cell_type": "code",
      "metadata": {
        "id": "e8kmz_NZ2HoZ"
      },
      "source": [
        "# importando as bibliotecas\n",
        "\n",
        "import pandas as pd\n",
        "import matplotlib.pyplot as plt\n",
        "\n",
        "# importando os dados\n",
        "\n",
        "DATA_PATH = \"https://raw.githubusercontent.com/carlosfab/dsnp2/master/datasets/dengue-dataset.csv\"\n",
        "df = pd.read_csv(DATA_PATH)\n",
        "df.data = pd.to_datetime(df.data)\n",
        "df.set_index('data', inplace=True)\n",
        "\n"
      ],
      "execution_count": 13,
      "outputs": []
    },
    {
      "cell_type": "code",
      "metadata": {
        "colab": {
          "base_uri": "https://localhost:8080/",
          "height": 296
        },
        "id": "VHpLd99Q3hqA",
        "outputId": "f7466cb8-2703-42ce-dc31-81b7d9f8db87"
      },
      "source": [
        "# plotar o histograma da temperatura média\n",
        "fig, ax = plt.subplots()\n",
        "\n",
        "ax.hist('temperatura-media', data=df)\n",
        "ax.set_title(\"Distribuição da Temperatura Média\")\n",
        "ax.set_ylabel(\"Quantidade de Ocorrências\")\n",
        "ax.set_xlabel(\"Temperatura Média\")\n",
        "\n",
        "#retirar informações da figura\n",
        "plt.show()\n"
      ],
      "execution_count": 12,
      "outputs": [
        {
          "output_type": "display_data",
          "data": {
            "image/png": "[encoded data removed]",
            "text/plain": [
              "<Figure size 432x288 with 1 Axes>"
            ]
          },
          "metadata": {
            "tags": [],
            "needs_background": "light"
          }
        }
      ]
    },
    {
      "cell_type": "markdown",
      "metadata": {
        "id": "QQ9-dXyP4PLv"
      },
      "source": [
        "O histograma acima está representando os valores absolutos no eixo y. Para plotar em termos de frequência relativa, acrescenta-se `density=True` dentro da função."
      ]
    },
    {
      "cell_type": "code",
      "metadata": {
        "colab": {
          "base_uri": "https://localhost:8080/",
          "height": 296
        },
        "id": "lS_5D5nB4WJy",
        "outputId": "45e97cf6-8177-4555-9be3-437a177eb951"
      },
      "source": [
        "# plotar o histograma da densidade da temperatura média\n",
        "fig, ax = plt.subplots()\n",
        "\n",
        "ax.hist('temperatura-media', data=df, density=True)\n",
        "ax.set_title(\"Frequência da Temperatura Média\")\n",
        "ax.set_ylabel(\"Frequência de Ocorrências\")\n",
        "ax.set_xlabel(\"Temperatura Média\")\n",
        "\n",
        "#retirar informações da figura\n",
        "plt.show()"
      ],
      "execution_count": 8,
      "outputs": [
        {
          "output_type": "display_data",
          "data": {
            "image/png": "[encoded data removed]",
            "text/plain": [
              "<Figure size 432x288 with 1 Axes>"
            ]
          },
          "metadata": {
            "tags": [],
            "needs_background": "light"
          }
        }
      ]
    },
    {
      "cell_type": "markdown",
      "metadata": {
        "id": "IT0BAXiD460P"
      },
      "source": [
        "A quantidade de barras é definida por padrão, porém não é fixa. Conseguimos alterar a quantidade de `bins` informando dentro do método de maneira explícita."
      ]
    },
    {
      "cell_type": "code",
      "metadata": {
        "colab": {
          "base_uri": "https://localhost:8080/",
          "height": 296
        },
        "id": "8pi4Zds2489t",
        "outputId": "4cd1bf9b-dcd8-4ee5-cfce-a9ae9fe9d326"
      },
      "source": [
        "#plotar o histograma da temperatura média (para inserir mais colunas colocar o bins e a quantidade de barras)\n",
        "\n",
        "# plotar o histograma da densidade da temperatura média\n",
        "fig, ax = plt.subplots()\n",
        "\n",
        "ax.hist('temperatura-media', data=df, density=True, bins=40)\n",
        "ax.set_title(\"Frequência da Temperatura Média\")\n",
        "ax.set_ylabel(\"Frequência de Ocorrências\")\n",
        "ax.set_xlabel(\"Temperatura Média\")\n",
        "\n",
        "#retirar informações da figura\n",
        "plt.show()"
      ],
      "execution_count": 10,
      "outputs": [
        {
          "output_type": "display_data",
          "data": {
            "image/png": "[encoded data removed]",
            "text/plain": [
              "<Figure size 432x288 with 1 Axes>"
            ]
          },
          "metadata": {
            "tags": [],
            "needs_background": "light"
          }
        }
      ]
    }
  ]
}
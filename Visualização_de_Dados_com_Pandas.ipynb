{
  "nbformat": 4,
  "nbformat_minor": 0,
  "metadata": {
    "colab": {
      "name": "Visualização de Dados com Pandas.ipynb",
      "provenance": [],
      "collapsed_sections": [],
      "authorship_tag": "ABX9TyMZDzR9peX2T9w6LGXpEpnd",
      "include_colab_link": true
    },
    "kernelspec": {
      "name": "python3",
      "display_name": "Python 3"
    }
  },
  "cells": [
    {
      "cell_type": "markdown",
      "metadata": {
        "id": "view-in-github",
        "colab_type": "text"
      },
      "source": [
        "<a href=\"https://colab.research.google.com/github/emanuelmad/Data_Science_projects/blob/main/Visualiza%C3%A7%C3%A3o_de_Dados_com_Pandas.ipynb\" target=\"_parent\"><img src=\"https://colab.research.google.com/assets/colab-badge.svg\" alt=\"Open In Colab\"/></a>"
      ]
    },
    {
      "cell_type": "markdown",
      "metadata": {
        "id": "UUtRJRsp7l06"
      },
      "source": [
        "# Visualização de Dados com Pandas\n",
        "\n",
        "Visualização de dados é algo muito importante para um projeto de *Data Science*.\n",
        "\n",
        "Apesar de termos o Módulo 3 totalmente dedicado a essa finalidade, queria dar uma breve introdução de como o próprio Pandas é capaz de plotar gráficos a partir de um *DataFrame*.\n",
        "\n",
        "Como exemplo, vamos importar mais uma vez os dados da ação BBAS3 do `csv`. No entanto, desta vez vamos fazer uma coisa diferente.\n",
        "\n",
        "Como cada linha representa um dia de pregão da Bolsa de Valores, faz sentido que nosso índice (*index*) seja a coluna `Date`. Também quero que o Pandas leia essa coluna como sendo uma data, convertendo `strings` do tipo `2018-09-21` em variáveis do tipo `datetime`."
      ]
    },
    {
      "cell_type": "code",
      "metadata": {
        "colab": {
          "base_uri": "https://localhost:8080/",
          "height": 224
        },
        "id": "M3heL9n67wBv",
        "outputId": "24e9f444-5b46-4598-815e-aee89968231d"
      },
      "source": [
        "# importar pandas\n",
        "import pandas as pd\n",
        "\n",
        "# importar o arquivo csv para o Pandas\n",
        "df = pd.read_csv(\"https://raw.githubusercontent.com/emanuelmad/Data_Science_projects/main/dados20m.csv\")\n",
        "\n",
        "# ver as primeiras entradas\n",
        "df.head()"
      ],
      "execution_count": 4,
      "outputs": [
        {
          "output_type": "execute_result",
          "data": {
            "text/html": [
              "<div>\n",
              "<style scoped>\n",
              "    .dataframe tbody tr th:only-of-type {\n",
              "        vertical-align: middle;\n",
              "    }\n",
              "\n",
              "    .dataframe tbody tr th {\n",
              "        vertical-align: top;\n",
              "    }\n",
              "\n",
              "    .dataframe thead th {\n",
              "        text-align: right;\n",
              "    }\n",
              "</style>\n",
              "<table border=\"1\" class=\"dataframe\">\n",
              "  <thead>\n",
              "    <tr style=\"text-align: right;\">\n",
              "      <th></th>\n",
              "      <th>X</th>\n",
              "      <th>Y</th>\n",
              "      <th>FID</th>\n",
              "      <th>AMOSTRA</th>\n",
              "      <th>x</th>\n",
              "      <th>y</th>\n",
              "      <th>dap</th>\n",
              "      <th>h</th>\n",
              "      <th>hdom</th>\n",
              "      <th>g</th>\n",
              "      <th>volha</th>\n",
              "      <th>B3</th>\n",
              "      <th>B4</th>\n",
              "      <th>B5</th>\n",
              "      <th>B6</th>\n",
              "      <th>B7</th>\n",
              "      <th>B12</th>\n",
              "      <th>B2</th>\n",
              "      <th>B11</th>\n",
              "      <th>B8A</th>\n",
              "      <th>B8</th>\n",
              "    </tr>\n",
              "  </thead>\n",
              "  <tbody>\n",
              "    <tr>\n",
              "      <th>0</th>\n",
              "      <td>610015</td>\n",
              "      <td>6937110</td>\n",
              "      <td>1</td>\n",
              "      <td>GO1</td>\n",
              "      <td>610015</td>\n",
              "      <td>6937110</td>\n",
              "      <td>15.081335</td>\n",
              "      <td>22.543918</td>\n",
              "      <td>26.433333</td>\n",
              "      <td>0.619164</td>\n",
              "      <td>202.018270</td>\n",
              "      <td>0.0286</td>\n",
              "      <td>0.0278</td>\n",
              "      <td>0.0447</td>\n",
              "      <td>0.1490</td>\n",
              "      <td>0.2087</td>\n",
              "      <td>0.0420</td>\n",
              "      <td>0.0272</td>\n",
              "      <td>0.0998</td>\n",
              "      <td>0.2487</td>\n",
              "      <td>0.2112</td>\n",
              "    </tr>\n",
              "    <tr>\n",
              "      <th>1</th>\n",
              "      <td>610023</td>\n",
              "      <td>6937160</td>\n",
              "      <td>2</td>\n",
              "      <td>GO2</td>\n",
              "      <td>610023</td>\n",
              "      <td>6937160</td>\n",
              "      <td>14.340797</td>\n",
              "      <td>20.891552</td>\n",
              "      <td>23.800000</td>\n",
              "      <td>0.575503</td>\n",
              "      <td>178.951292</td>\n",
              "      <td>0.0290</td>\n",
              "      <td>0.0289</td>\n",
              "      <td>0.0484</td>\n",
              "      <td>0.1448</td>\n",
              "      <td>0.2060</td>\n",
              "      <td>0.0422</td>\n",
              "      <td>0.0270</td>\n",
              "      <td>0.1000</td>\n",
              "      <td>0.2418</td>\n",
              "      <td>0.2076</td>\n",
              "    </tr>\n",
              "    <tr>\n",
              "      <th>2</th>\n",
              "      <td>610093</td>\n",
              "      <td>6937180</td>\n",
              "      <td>3</td>\n",
              "      <td>GO3</td>\n",
              "      <td>610093</td>\n",
              "      <td>6937180</td>\n",
              "      <td>14.118268</td>\n",
              "      <td>21.206000</td>\n",
              "      <td>23.900000</td>\n",
              "      <td>0.638989</td>\n",
              "      <td>201.434098</td>\n",
              "      <td>0.0290</td>\n",
              "      <td>0.0298</td>\n",
              "      <td>0.0495</td>\n",
              "      <td>0.1501</td>\n",
              "      <td>0.2130</td>\n",
              "      <td>0.0462</td>\n",
              "      <td>0.0281</td>\n",
              "      <td>0.1090</td>\n",
              "      <td>0.2533</td>\n",
              "      <td>0.2105</td>\n",
              "    </tr>\n",
              "    <tr>\n",
              "      <th>3</th>\n",
              "      <td>610160</td>\n",
              "      <td>6937170</td>\n",
              "      <td>4</td>\n",
              "      <td>GO4</td>\n",
              "      <td>610160</td>\n",
              "      <td>6937170</td>\n",
              "      <td>14.287433</td>\n",
              "      <td>20.710449</td>\n",
              "      <td>23.985823</td>\n",
              "      <td>0.572487</td>\n",
              "      <td>176.374657</td>\n",
              "      <td>0.0298</td>\n",
              "      <td>0.0273</td>\n",
              "      <td>0.0475</td>\n",
              "      <td>0.1427</td>\n",
              "      <td>0.2054</td>\n",
              "      <td>0.0445</td>\n",
              "      <td>0.0258</td>\n",
              "      <td>0.1065</td>\n",
              "      <td>0.2496</td>\n",
              "      <td>0.2088</td>\n",
              "    </tr>\n",
              "    <tr>\n",
              "      <th>4</th>\n",
              "      <td>610022</td>\n",
              "      <td>6937240</td>\n",
              "      <td>5</td>\n",
              "      <td>GO5</td>\n",
              "      <td>610022</td>\n",
              "      <td>6937240</td>\n",
              "      <td>14.211542</td>\n",
              "      <td>20.786956</td>\n",
              "      <td>24.006539</td>\n",
              "      <td>0.525941</td>\n",
              "      <td>161.105261</td>\n",
              "      <td>0.0266</td>\n",
              "      <td>0.0271</td>\n",
              "      <td>0.0467</td>\n",
              "      <td>0.1389</td>\n",
              "      <td>0.1965</td>\n",
              "      <td>0.0403</td>\n",
              "      <td>0.0252</td>\n",
              "      <td>0.0935</td>\n",
              "      <td>0.2336</td>\n",
              "      <td>0.1873</td>\n",
              "    </tr>\n",
              "  </tbody>\n",
              "</table>\n",
              "</div>"
            ],
            "text/plain": [
              "        X        Y  FID AMOSTRA       x  ...     B12      B2     B11     B8A      B8\n",
              "0  610015  6937110    1     GO1  610015  ...  0.0420  0.0272  0.0998  0.2487  0.2112\n",
              "1  610023  6937160    2     GO2  610023  ...  0.0422  0.0270  0.1000  0.2418  0.2076\n",
              "2  610093  6937180    3     GO3  610093  ...  0.0462  0.0281  0.1090  0.2533  0.2105\n",
              "3  610160  6937170    4     GO4  610160  ...  0.0445  0.0258  0.1065  0.2496  0.2088\n",
              "4  610022  6937240    5     GO5  610022  ...  0.0403  0.0252  0.0935  0.2336  0.1873\n",
              "\n",
              "[5 rows x 21 columns]"
            ]
          },
          "metadata": {
            "tags": []
          },
          "execution_count": 4
        }
      ]
    },
    {
      "cell_type": "markdown",
      "metadata": {
        "id": "mgz-wgdW-3Hz"
      },
      "source": [
        "## Gráfico de Linhas\n",
        "\n",
        "Vamos supor que você quisesse visualizar como foram as máximas de DAP da sua floresta.\n",
        "\n",
        "Vimos lá atrás que é possível selecionar apenas uma coluna de um *DataFrame*. Neste exemplo, vou selecionar a variável `dap` usando `df['dap']'.\n",
        "\n",
        "Em seguida, a unica coisa que eu faço é executar o método `plot()`"
      ]
    },
    {
      "cell_type": "code",
      "metadata": {
        "colab": {
          "base_uri": "https://localhost:8080/",
          "height": 265
        },
        "id": "hosR2I02-4fy",
        "outputId": "8abebf70-24a7-4b12-e88b-fb6b8d1570b1"
      },
      "source": [
        "df['dap'].plot();"
      ],
      "execution_count": 8,
      "outputs": [
        {
          "output_type": "display_data",
          "data": {
            "image/png": "[encoded data removed]",
            "text/plain": [
              "<Figure size 432x288 with 1 Axes>"
            ]
          },
          "metadata": {
            "tags": [],
            "needs_background": "light"
          }
        }
      ]
    },
    {
      "cell_type": "markdown",
      "metadata": {
        "id": "zwreqhRlCqRM"
      },
      "source": [
        "## Histograma\n",
        "\n",
        "Quando se quer ter uma noção de quantas vezes uma determinada informação aparece no conjunto de dados, plotar o histograma pode ser de grande valor.\n",
        "\n",
        "Histogramas são uma das principais ferramentas da estatística para extrair informações sobre frequencia e distribuição dos nossos dados. Ele é conceitualmente bem simples. Se você nunca teve contato com esse tipo de gráfico, recomendo assistir a [este vídeo da Khan Academy](https://www.youtube.com/watch?v=L0f8d3B8dk4).\n",
        "\n",
        "Vamos plotar o histograma do volume de madeira por hectare."
      ]
    },
    {
      "cell_type": "code",
      "metadata": {
        "colab": {
          "base_uri": "https://localhost:8080/",
          "height": 265
        },
        "id": "E1B7aqbgCwwp",
        "outputId": "9a64df19-d134-4af8-fdf3-26f79ae8584b"
      },
      "source": [
        "df['volha'].hist();"
      ],
      "execution_count": 14,
      "outputs": [
        {
          "output_type": "display_data",
          "data": {
            "image/png": "[encoded data removed]",
            "text/plain": [
              "<Figure size 432x288 with 1 Axes>"
            ]
          },
          "metadata": {
            "tags": [],
            "needs_background": "light"
          }
        }
      ]
    },
    {
      "cell_type": "markdown",
      "metadata": {
        "id": "smoZhXTYDYYO"
      },
      "source": [
        "## Gráfico de Dispersão (*Scatter Plot*)\n",
        "\n",
        "O gráfico de dispersão é um gráfico ideal para ver a correlação entre duas variáveis quaisquer.\n",
        "\n",
        "Serve não apenas para mostrar quanto uma variável é afetada por outra, mas também para plotar coordenadas geográficas para ter um *awareness* (como foi feito no projeto do Módulo 1).\n",
        "\n",
        "Vamos usar dados de Volume com DAP da floresta."
      ]
    },
    {
      "cell_type": "code",
      "metadata": {
        "colab": {
          "base_uri": "https://localhost:8080/",
          "height": 279
        },
        "id": "yh-EOJ84Dpwi",
        "outputId": "8535e887-2717-4cac-a7e7-21932a32afe0"
      },
      "source": [
        "# plotar um gráfico de dispersão\n",
        "df.plot.scatter('volha', 'dap');"
      ],
      "execution_count": 15,
      "outputs": [
        {
          "output_type": "display_data",
          "data": {
            "image/png": "[encoded data removed]",
            "text/plain": [
              "<Figure size 432x288 with 1 Axes>"
            ]
          },
          "metadata": {
            "tags": [],
            "needs_background": "light"
          }
        }
      ]
    },
    {
      "cell_type": "markdown",
      "metadata": {
        "id": "u-JsLtZHErrw"
      },
      "source": [
        "## Boxplot\n",
        "\n",
        "Boxplot é um dos tipos de gráficos que conseguem fornecer o maior número de informações estatísticas de uma vez só.\n",
        "\n",
        "<center><img src=\"https://pro.arcgis.com/en/pro-app/help/analysis/geoprocessing/charts/GUID-0E2C3730-C535-40CD-8152-80D794A996A7-web.png\" height=\"200px\"></center>\n",
        "\n",
        "É possível ter em uma imagem os valores máximos, mínimos, quartis e mediana. \n",
        "Boxplot\n",
        "Boxplot é um dos tipos de gráficos que conseguem fornecer o maior número de informações estatísticas de uma vez só.\n",
        "\n",
        "\n",
        "É possível ter em uma imagem os valores máximos, mínimos, quartis e mediana. Outliers também são representados como pontos acima do valor máximo ou abaixo do valor mínimo.\n"
      ]
    },
    {
      "cell_type": "code",
      "metadata": {
        "colab": {
          "base_uri": "https://localhost:8080/",
          "height": 265
        },
        "id": "13MfLbkfFE0l",
        "outputId": "ac5c7efb-4805-4b7b-fcf5-34dfb2fe7c6c"
      },
      "source": [
        "## plotar o boxplot para os valores máximos de Volume de madeira por parcela.\n",
        "df.volha.plot(kind=\"box\");"
      ],
      "execution_count": 18,
      "outputs": [
        {
          "output_type": "display_data",
          "data": {
            "image/png": "[encoded data removed]",
            "text/plain": [
              "<Figure size 432x288 with 1 Axes>"
            ]
          },
          "metadata": {
            "tags": [],
            "needs_background": "light"
          }
        }
      ]
    }
  ]
}
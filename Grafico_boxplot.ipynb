{
  "nbformat": 4,
  "nbformat_minor": 0,
  "metadata": {
    "colab": {
      "name": "Grafico boxplot",
      "provenance": [],
      "authorship_tag": "ABX9TyNXTUoCniGPQReoLhHU49fp",
      "include_colab_link": true
    },
    "kernelspec": {
      "name": "python3",
      "display_name": "Python 3"
    },
    "language_info": {
      "name": "python"
    }
  },
  "cells": [
    {
      "cell_type": "markdown",
      "metadata": {
        "id": "view-in-github",
        "colab_type": "text"
      },
      "source": [
        "<a href=\"https://colab.research.google.com/github/emanuelmad/Data_Science_projects/blob/main/Grafico_boxplot.ipynb\" target=\"_parent\"><img src=\"https://colab.research.google.com/assets/colab-badge.svg\" alt=\"Open In Colab\"/></a>"
      ]
    },
    {
      "cell_type": "markdown",
      "metadata": {
        "id": "GpsRTw0DHSHt"
      },
      "source": [
        "# Boxplot\n",
        "\n",
        "*Boxplot*, ou diagrama de caixa em português, é uma ferramenta estatística que consegue representar a variação de uma variável utilizando quartis.\n",
        "\n",
        "Os limites inferior e superior se extendem para fora do boxplot para conseguir representar a variabilidade da distribuição dos dados. Valores que estejam além desses limites podem ser considerados como sendo *outliers*.\n",
        "\n",
        "Uma coisa que vale a pena ressaltar é que entre o primeiro e o terceiro quartil está a mediana, que também é o segundo quartil do *boxplot*. \n",
        "\n",
        "<center><img src=\"https://upload.wikimedia.org/wikipedia/commons/thumb/c/c9/Elements_of_a_boxplot_pt.svg/2560px-Elements_of_a_boxplot_pt.svg.png\"width=\"450px\"></center>\n",
        "\n",
        "A figura abaixo representa muito bem como estão relacionados o *boxplot* e a função densidade de probabilidade de uma população que segue uma distribuição normal $N(0, 1\\sigma^2)$.\n",
        "\n",
        "<center><img src=\"https://upload.wikimedia.org/wikipedia/commons/thumb/1/1a/Boxplot_vs_PDF.svg/1920px-Boxplot_vs_PDF.svg.png\"width=\"400px\"></center>"
      ]
    },
    {
      "cell_type": "markdown",
      "metadata": {
        "id": "dqTWOwG0HWlx"
      },
      "source": [
        "## Plotar o boxplot\n",
        "\n",
        "Para exemplificar o gráfico de linhas, vou usar um *dataset* contendo o número de casos (mensal) de dengue para a cidade de Campinas-SP. Vamos plotar os gráficos para as temperaturas do nosso *dataset*."
      ]
    },
    {
      "cell_type": "code",
      "metadata": {
        "colab": {
          "base_uri": "https://localhost:8080/",
          "height": 204
        },
        "id": "XeFziHiJHP9n",
        "outputId": "9e684434-c795-4fcc-a63e-ed1560898ef6"
      },
      "source": [
        "# importar bibliotecas\n",
        "import pandas as pd\n",
        "import matplotlib.pyplot as plt\n",
        "\n",
        "# importar dados para dataframe\n",
        "DATA_PATH = \"https://raw.githubusercontent.com/carlosfab/dsnp2/master/datasets/dengue-dataset.csv\"\n",
        "df = pd.read_csv(DATA_PATH)\n",
        "\n",
        "# ver as 5 primeiras entradas\n",
        "df.head()"
      ],
      "execution_count": 1,
      "outputs": [
        {
          "output_type": "execute_result",
          "data": {
            "text/html": [
              "<div>\n",
              "<style scoped>\n",
              "    .dataframe tbody tr th:only-of-type {\n",
              "        vertical-align: middle;\n",
              "    }\n",
              "\n",
              "    .dataframe tbody tr th {\n",
              "        vertical-align: top;\n",
              "    }\n",
              "\n",
              "    .dataframe thead th {\n",
              "        text-align: right;\n",
              "    }\n",
              "</style>\n",
              "<table border=\"1\" class=\"dataframe\">\n",
              "  <thead>\n",
              "    <tr style=\"text-align: right;\">\n",
              "      <th></th>\n",
              "      <th>data</th>\n",
              "      <th>casos-confirmados</th>\n",
              "      <th>chuva</th>\n",
              "      <th>temperatura-media</th>\n",
              "      <th>temperatura-mininima</th>\n",
              "      <th>temperatura-maxima</th>\n",
              "    </tr>\n",
              "  </thead>\n",
              "  <tbody>\n",
              "    <tr>\n",
              "      <th>0</th>\n",
              "      <td>1998-01-01</td>\n",
              "      <td>237</td>\n",
              "      <td>179.2</td>\n",
              "      <td>25.7</td>\n",
              "      <td>20.2</td>\n",
              "      <td>28.1</td>\n",
              "    </tr>\n",
              "    <tr>\n",
              "      <th>1</th>\n",
              "      <td>1998-02-01</td>\n",
              "      <td>331</td>\n",
              "      <td>226.3</td>\n",
              "      <td>25.1</td>\n",
              "      <td>20.0</td>\n",
              "      <td>28.0</td>\n",
              "    </tr>\n",
              "    <tr>\n",
              "      <th>2</th>\n",
              "      <td>1998-03-01</td>\n",
              "      <td>562</td>\n",
              "      <td>149.1</td>\n",
              "      <td>24.8</td>\n",
              "      <td>22.4</td>\n",
              "      <td>27.2</td>\n",
              "    </tr>\n",
              "    <tr>\n",
              "      <th>3</th>\n",
              "      <td>1998-04-01</td>\n",
              "      <td>187</td>\n",
              "      <td>46.4</td>\n",
              "      <td>22.7</td>\n",
              "      <td>18.1</td>\n",
              "      <td>26.0</td>\n",
              "    </tr>\n",
              "    <tr>\n",
              "      <th>4</th>\n",
              "      <td>1998-05-01</td>\n",
              "      <td>32</td>\n",
              "      <td>88.3</td>\n",
              "      <td>19.2</td>\n",
              "      <td>15.7</td>\n",
              "      <td>22.9</td>\n",
              "    </tr>\n",
              "  </tbody>\n",
              "</table>\n",
              "</div>"
            ],
            "text/plain": [
              "         data  casos-confirmados  ...  temperatura-mininima  temperatura-maxima\n",
              "0  1998-01-01                237  ...                  20.2                28.1\n",
              "1  1998-02-01                331  ...                  20.0                28.0\n",
              "2  1998-03-01                562  ...                  22.4                27.2\n",
              "3  1998-04-01                187  ...                  18.1                26.0\n",
              "4  1998-05-01                 32  ...                  15.7                22.9\n",
              "\n",
              "[5 rows x 6 columns]"
            ]
          },
          "metadata": {
            "tags": []
          },
          "execution_count": 1
        }
      ]
    },
    {
      "cell_type": "code",
      "metadata": {
        "colab": {
          "base_uri": "https://localhost:8080/",
          "height": 265
        },
        "id": "Q_QL0WWKHg1y",
        "outputId": "2ac45758-f7c8-44ac-dba1-12a4a1503798"
      },
      "source": [
        "# plotar o boxplot para as temperaturas\n",
        "fig, ax = plt.subplots()\n",
        "\n",
        "df.boxplot(['temperatura-media', 'temperatura-mininima', 'temperatura-maxima'], ax=ax)\n",
        "\n",
        "plt.show()"
      ],
      "execution_count": 5,
      "outputs": [
        {
          "output_type": "display_data",
          "data": {
            "image/png": "[encoded data removed]",
            "text/plain": [
              "<Figure size 432x288 with 1 Axes>"
            ]
          },
          "metadata": {
            "tags": [],
            "needs_background": "light"
          }
        }
      ]
    },
    {
      "cell_type": "markdown",
      "metadata": {
        "id": "AzPOsxPuI09X"
      },
      "source": [
        "Nos *plots* acima, os *boxplots* estão na vertical, porém é possível colocá-los na horizontal apenas informando `vert=False`."
      ]
    },
    {
      "cell_type": "code",
      "metadata": {
        "colab": {
          "base_uri": "https://localhost:8080/",
          "height": 297
        },
        "id": "QP0GEQEBI5SW",
        "outputId": "29d09c6b-2004-4946-e875-ed23f7dead80"
      },
      "source": [
        "# plotar o boxplot para casos confirmados\n",
        "fig, ax = plt.subplots()\n",
        "\n",
        "df.boxplot(['casos-confirmados'], vert=False, ax=ax)\n",
        "\n",
        "plt.tight_layout()"
      ],
      "execution_count": 6,
      "outputs": [
        {
          "output_type": "display_data",
          "data": {
            "image/png": "[encoded data removed]",
            "text/plain": [
              "<Figure size 432x288 with 1 Axes>"
            ]
          },
          "metadata": {
            "tags": [],
            "needs_background": "light"
          }
        }
      ]
    },
    {
      "cell_type": "markdown",
      "metadata": {
        "id": "F3THvwRpI-XT"
      },
      "source": [
        "Olhe como nosso *dataset* parece distorcer a realidade. Provavelmente não houve um aumento desses nos casos de dengue confirmados. Há várias possibilidades para isso ter acontecido. Pode ser que não se lançavam os dados corretamente antigamente, mudança na metodologia ou erros nos lançamentos atuais.\n",
        "\n",
        "Vamos estabelecer um ponto de corte arbitrário para ver como fica a distribuição."
      ]
    },
    {
      "cell_type": "code",
      "metadata": {
        "colab": {
          "base_uri": "https://localhost:8080/",
          "height": 265
        },
        "id": "CBRohlaoJZYN",
        "outputId": "162c2621-c8ec-4a91-8f99-fd934ac71ba3"
      },
      "source": [
        "#plotar o boxplot para casos confirmados, com corte arbitrário (<150)\n",
        "\n",
        "fig, ax = plt.subplots()\n",
        "\n",
        "df.loc[df['casos-confirmados']<150].boxplot('casos-confirmados', ax=ax, vert=False)\n",
        "\n",
        "plt.show()"
      ],
      "execution_count": 8,
      "outputs": [
        {
          "output_type": "display_data",
          "data": {
            "image/png": "[encoded data removed]",
            "text/plain": [
              "<Figure size 432x288 with 1 Axes>"
            ]
          },
          "metadata": {
            "tags": [],
            "needs_background": "light"
          }
        }
      ]
    }
  ]
}
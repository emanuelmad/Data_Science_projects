{
  "nbformat": 4,
  "nbformat_minor": 0,
  "metadata": {
    "colab": {
      "name": "Criando dataframe.ipynb",
      "provenance": [],
      "collapsed_sections": [],
      "authorship_tag": "ABX9TyPr8etGmHIGEwr+w+T3TPW2",
      "include_colab_link": true
    },
    "kernelspec": {
      "name": "python3",
      "display_name": "Python 3"
    }
  },
  "cells": [
    {
      "cell_type": "markdown",
      "metadata": {
        "id": "view-in-github",
        "colab_type": "text"
      },
      "source": [
        "<a href=\"https://colab.research.google.com/github/emanuelmad/Data_Science_projects/blob/main/Criando_dataframe.ipynb\" target=\"_parent\"><img src=\"https://colab.research.google.com/assets/colab-badge.svg\" alt=\"Open In Colab\"/></a>"
      ]
    },
    {
      "cell_type": "markdown",
      "metadata": {
        "id": "LIfH4lggkotA"
      },
      "source": [
        "## DataFrames a partir de Dicionários\n",
        "\n",
        "Uma das estruturas básicas do Python é o Dicionário. É muito conveniente informarmos nossos dados em uma variável do tipo `dict`, pois sua conversão em *DataFrame* é muito simples e direta."
      ]
    },
    {
      "cell_type": "code",
      "metadata": {
        "id": "daNL-VCIlXBL"
      },
      "source": [
        "#importar pandas\n",
        "import pandas as pd"
      ],
      "execution_count": 1,
      "outputs": []
    },
    {
      "cell_type": "code",
      "metadata": {
        "id": "NsXAAzXYlmbm"
      },
      "source": [
        "#criar dicionário\n",
        "dados = {\n",
        "    'Nome': ['Emanuel', 'Anelisa', 'Marisa', 'Cesar'],\n",
        "    'Idade': ['37', '34', '62', '65'],\n",
        "    'Cidade': ['Olinda', 'Santa Maria', 'Santa Maria', 'Caxias do Sul'],\n",
        "    'Compras': [True, True, False, False]\n",
        "\n",
        "}"
      ],
      "execution_count": 2,
      "outputs": []
    },
    {
      "cell_type": "code",
      "metadata": {
        "id": "IfBkEwiFoMCU"
      },
      "source": [
        "#criar dataframe\n",
        "df = pd.DataFrame(dados)"
      ],
      "execution_count": 3,
      "outputs": []
    },
    {
      "cell_type": "code",
      "metadata": {
        "colab": {
          "base_uri": "https://localhost:8080/",
          "height": 173
        },
        "id": "KqFBcKl5oh61",
        "outputId": "ba474f0f-3fb5-42b6-a845-9a12cf79c30e"
      },
      "source": [
        "#visualizar dataframe\n",
        "display(df)"
      ],
      "execution_count": 4,
      "outputs": [
        {
          "output_type": "display_data",
          "data": {
            "text/html": [
              "<div>\n",
              "<style scoped>\n",
              "    .dataframe tbody tr th:only-of-type {\n",
              "        vertical-align: middle;\n",
              "    }\n",
              "\n",
              "    .dataframe tbody tr th {\n",
              "        vertical-align: top;\n",
              "    }\n",
              "\n",
              "    .dataframe thead th {\n",
              "        text-align: right;\n",
              "    }\n",
              "</style>\n",
              "<table border=\"1\" class=\"dataframe\">\n",
              "  <thead>\n",
              "    <tr style=\"text-align: right;\">\n",
              "      <th></th>\n",
              "      <th>Nome</th>\n",
              "      <th>Idade</th>\n",
              "      <th>Cidade</th>\n",
              "      <th>Compras</th>\n",
              "    </tr>\n",
              "  </thead>\n",
              "  <tbody>\n",
              "    <tr>\n",
              "      <th>0</th>\n",
              "      <td>Emanuel</td>\n",
              "      <td>37</td>\n",
              "      <td>Olinda</td>\n",
              "      <td>True</td>\n",
              "    </tr>\n",
              "    <tr>\n",
              "      <th>1</th>\n",
              "      <td>Anelisa</td>\n",
              "      <td>34</td>\n",
              "      <td>Santa Maria</td>\n",
              "      <td>True</td>\n",
              "    </tr>\n",
              "    <tr>\n",
              "      <th>2</th>\n",
              "      <td>Marisa</td>\n",
              "      <td>62</td>\n",
              "      <td>Santa Maria</td>\n",
              "      <td>False</td>\n",
              "    </tr>\n",
              "    <tr>\n",
              "      <th>3</th>\n",
              "      <td>Cesar</td>\n",
              "      <td>65</td>\n",
              "      <td>Caxias do Sul</td>\n",
              "      <td>False</td>\n",
              "    </tr>\n",
              "  </tbody>\n",
              "</table>\n",
              "</div>"
            ],
            "text/plain": [
              "      Nome Idade         Cidade  Compras\n",
              "0  Emanuel    37         Olinda     True\n",
              "1  Anelisa    34    Santa Maria     True\n",
              "2   Marisa    62    Santa Maria    False\n",
              "3    Cesar    65  Caxias do Sul    False"
            ]
          },
          "metadata": {
            "tags": []
          }
        }
      ]
    },
    {
      "cell_type": "code",
      "metadata": {
        "id": "koR9b__qpAEr"
      },
      "source": [
        "#trocar id do usuário\n",
        "\n",
        "id_usuario = [20, 30, 40, 50]"
      ],
      "execution_count": 5,
      "outputs": []
    },
    {
      "cell_type": "code",
      "metadata": {
        "id": "hHXTGKnVpQ3e"
      },
      "source": [
        "#Associar id a lista\n",
        "df.index = id_usuario"
      ],
      "execution_count": 6,
      "outputs": []
    },
    {
      "cell_type": "code",
      "metadata": {
        "colab": {
          "base_uri": "https://localhost:8080/",
          "height": 173
        },
        "id": "x7dG8RM2pwgQ",
        "outputId": "25ab1fdd-86ca-4a5e-91e2-22f6934ef700"
      },
      "source": [
        "#ver dataframe\n",
        "display(df)"
      ],
      "execution_count": 8,
      "outputs": [
        {
          "output_type": "display_data",
          "data": {
            "text/html": [
              "<div>\n",
              "<style scoped>\n",
              "    .dataframe tbody tr th:only-of-type {\n",
              "        vertical-align: middle;\n",
              "    }\n",
              "\n",
              "    .dataframe tbody tr th {\n",
              "        vertical-align: top;\n",
              "    }\n",
              "\n",
              "    .dataframe thead th {\n",
              "        text-align: right;\n",
              "    }\n",
              "</style>\n",
              "<table border=\"1\" class=\"dataframe\">\n",
              "  <thead>\n",
              "    <tr style=\"text-align: right;\">\n",
              "      <th></th>\n",
              "      <th>Nome</th>\n",
              "      <th>Idade</th>\n",
              "      <th>Cidade</th>\n",
              "      <th>Compras</th>\n",
              "    </tr>\n",
              "  </thead>\n",
              "  <tbody>\n",
              "    <tr>\n",
              "      <th>20</th>\n",
              "      <td>Emanuel</td>\n",
              "      <td>37</td>\n",
              "      <td>Olinda</td>\n",
              "      <td>True</td>\n",
              "    </tr>\n",
              "    <tr>\n",
              "      <th>30</th>\n",
              "      <td>Anelisa</td>\n",
              "      <td>34</td>\n",
              "      <td>Santa Maria</td>\n",
              "      <td>True</td>\n",
              "    </tr>\n",
              "    <tr>\n",
              "      <th>40</th>\n",
              "      <td>Marisa</td>\n",
              "      <td>62</td>\n",
              "      <td>Santa Maria</td>\n",
              "      <td>False</td>\n",
              "    </tr>\n",
              "    <tr>\n",
              "      <th>50</th>\n",
              "      <td>Cesar</td>\n",
              "      <td>65</td>\n",
              "      <td>Caxias do Sul</td>\n",
              "      <td>False</td>\n",
              "    </tr>\n",
              "  </tbody>\n",
              "</table>\n",
              "</div>"
            ],
            "text/plain": [
              "       Nome Idade         Cidade  Compras\n",
              "20  Emanuel    37         Olinda     True\n",
              "30  Anelisa    34    Santa Maria     True\n",
              "40   Marisa    62    Santa Maria    False\n",
              "50    Cesar    65  Caxias do Sul    False"
            ]
          },
          "metadata": {
            "tags": []
          }
        }
      ]
    },
    {
      "cell_type": "markdown",
      "metadata": {
        "id": "A-bk0eJ3q_Mg"
      },
      "source": [
        "## DataFrames a partir de Listas\n",
        "\n",
        "Listas também são estruturas muito usadas em Python, e não é incomum termos que criar *DataFrames*  a partir destas.\n",
        "\n",
        "Para organizar nossas várias listas de um modo que seja fácil sia conversão em *DataFrame*, vou usar a função *built-in* `zip()`."
      ]
    },
    {
      "cell_type": "code",
      "metadata": {
        "colab": {
          "base_uri": "https://localhost:8080/",
          "height": 173
        },
        "id": "UGHV_BYLrA59",
        "outputId": "46274202-e8c6-44a9-ade6-fbdfdd6c1fd1"
      },
      "source": [
        "#listas\n",
        "\n",
        "dados = [[\n",
        "  'Emanuel', 37, 'Olinda', 'True'],\n",
        "         ['Anelisa', 34, 'Santa Maria', 'True'],\n",
        "         ['Marisa', 62, 'Santa Maria', 'False'],\n",
        "         ['Cesar', 65, 'Caxias do Sul', 'False']]\n",
        "\n",
        "#DataFrame\n",
        "df = pd.DataFrame(dados, columns=['Nome', 'Idade', 'Cidade', 'Compras'],\n",
        "                  index= [20, 30, 40, 50])\n",
        "\n",
        "df"
      ],
      "execution_count": 10,
      "outputs": [
        {
          "output_type": "execute_result",
          "data": {
            "text/html": [
              "<div>\n",
              "<style scoped>\n",
              "    .dataframe tbody tr th:only-of-type {\n",
              "        vertical-align: middle;\n",
              "    }\n",
              "\n",
              "    .dataframe tbody tr th {\n",
              "        vertical-align: top;\n",
              "    }\n",
              "\n",
              "    .dataframe thead th {\n",
              "        text-align: right;\n",
              "    }\n",
              "</style>\n",
              "<table border=\"1\" class=\"dataframe\">\n",
              "  <thead>\n",
              "    <tr style=\"text-align: right;\">\n",
              "      <th></th>\n",
              "      <th>Nome</th>\n",
              "      <th>Idade</th>\n",
              "      <th>Cidade</th>\n",
              "      <th>Compras</th>\n",
              "    </tr>\n",
              "  </thead>\n",
              "  <tbody>\n",
              "    <tr>\n",
              "      <th>20</th>\n",
              "      <td>Emanuel</td>\n",
              "      <td>37</td>\n",
              "      <td>Olinda</td>\n",
              "      <td>True</td>\n",
              "    </tr>\n",
              "    <tr>\n",
              "      <th>30</th>\n",
              "      <td>Anelisa</td>\n",
              "      <td>34</td>\n",
              "      <td>Santa Maria</td>\n",
              "      <td>True</td>\n",
              "    </tr>\n",
              "    <tr>\n",
              "      <th>40</th>\n",
              "      <td>Marisa</td>\n",
              "      <td>62</td>\n",
              "      <td>Santa Maria</td>\n",
              "      <td>False</td>\n",
              "    </tr>\n",
              "    <tr>\n",
              "      <th>50</th>\n",
              "      <td>Cesar</td>\n",
              "      <td>65</td>\n",
              "      <td>Caxias do Sul</td>\n",
              "      <td>False</td>\n",
              "    </tr>\n",
              "  </tbody>\n",
              "</table>\n",
              "</div>"
            ],
            "text/plain": [
              "       Nome  Idade         Cidade Compras\n",
              "20  Emanuel     37         Olinda    True\n",
              "30  Anelisa     34    Santa Maria    True\n",
              "40   Marisa     62    Santa Maria   False\n",
              "50    Cesar     65  Caxias do Sul   False"
            ]
          },
          "metadata": {
            "tags": []
          },
          "execution_count": 10
        }
      ]
    },
    {
      "cell_type": "code",
      "metadata": {
        "colab": {
          "base_uri": "https://localhost:8080/"
        },
        "id": "yeTo2y3H8ikf",
        "outputId": "d2d3b571-8b55-4043-fdfb-8bba8df2527d"
      },
      "source": [
        "#selecionar pelo index\n",
        "df.loc[20]"
      ],
      "execution_count": 13,
      "outputs": [
        {
          "output_type": "execute_result",
          "data": {
            "text/plain": [
              "Nome       Emanuel\n",
              "Idade           37\n",
              "Cidade      Olinda\n",
              "Compras       True\n",
              "Name: 20, dtype: object"
            ]
          },
          "metadata": {
            "tags": []
          },
          "execution_count": 13
        }
      ]
    },
    {
      "cell_type": "code",
      "metadata": {
        "colab": {
          "base_uri": "https://localhost:8080/",
          "height": 173
        },
        "id": "SxZwzYFM84zn",
        "outputId": "b666268e-fd40-4988-c34b-a64e6480e695"
      },
      "source": [
        "#criar nova coluna\n",
        "df['Saldo'] = 0.0\n",
        "\n",
        "df"
      ],
      "execution_count": 16,
      "outputs": [
        {
          "output_type": "execute_result",
          "data": {
            "text/html": [
              "<div>\n",
              "<style scoped>\n",
              "    .dataframe tbody tr th:only-of-type {\n",
              "        vertical-align: middle;\n",
              "    }\n",
              "\n",
              "    .dataframe tbody tr th {\n",
              "        vertical-align: top;\n",
              "    }\n",
              "\n",
              "    .dataframe thead th {\n",
              "        text-align: right;\n",
              "    }\n",
              "</style>\n",
              "<table border=\"1\" class=\"dataframe\">\n",
              "  <thead>\n",
              "    <tr style=\"text-align: right;\">\n",
              "      <th></th>\n",
              "      <th>Nome</th>\n",
              "      <th>Idade</th>\n",
              "      <th>Cidade</th>\n",
              "      <th>Compras</th>\n",
              "      <th>Saldo</th>\n",
              "    </tr>\n",
              "  </thead>\n",
              "  <tbody>\n",
              "    <tr>\n",
              "      <th>20</th>\n",
              "      <td>Emanuel</td>\n",
              "      <td>37</td>\n",
              "      <td>Olinda</td>\n",
              "      <td>True</td>\n",
              "      <td>0.0</td>\n",
              "    </tr>\n",
              "    <tr>\n",
              "      <th>30</th>\n",
              "      <td>Anelisa</td>\n",
              "      <td>34</td>\n",
              "      <td>Santa Maria</td>\n",
              "      <td>True</td>\n",
              "      <td>0.0</td>\n",
              "    </tr>\n",
              "    <tr>\n",
              "      <th>40</th>\n",
              "      <td>Marisa</td>\n",
              "      <td>62</td>\n",
              "      <td>Santa Maria</td>\n",
              "      <td>False</td>\n",
              "      <td>0.0</td>\n",
              "    </tr>\n",
              "    <tr>\n",
              "      <th>50</th>\n",
              "      <td>Cesar</td>\n",
              "      <td>65</td>\n",
              "      <td>Caxias do Sul</td>\n",
              "      <td>False</td>\n",
              "      <td>0.0</td>\n",
              "    </tr>\n",
              "  </tbody>\n",
              "</table>\n",
              "</div>"
            ],
            "text/plain": [
              "       Nome  Idade         Cidade Compras  Saldo\n",
              "20  Emanuel     37         Olinda    True    0.0\n",
              "30  Anelisa     34    Santa Maria    True    0.0\n",
              "40   Marisa     62    Santa Maria   False    0.0\n",
              "50    Cesar     65  Caxias do Sul   False    0.0"
            ]
          },
          "metadata": {
            "tags": []
          },
          "execution_count": 16
        }
      ]
    },
    {
      "cell_type": "markdown",
      "metadata": {
        "id": "XZIXnuHd9a_e"
      },
      "source": [
        "## Modificar *index* e colunas\n",
        "\n",
        "Às vezes, precisamos alterar o nome dos índices ou o *label* das colunas. Se você olhar na célula acima, veja que na esquerda do *DataFrame* o index de cada linha é representado por um número entre 0 e 3.\n",
        "\n",
        "É possível alterar esse atributo da variável acessando diretamente assim:"
      ]
    },
    {
      "cell_type": "code",
      "metadata": {
        "colab": {
          "base_uri": "https://localhost:8080/"
        },
        "id": "8KFkgcqv9gR_",
        "outputId": "30b1f5ee-5222-4e59-d1a4-a8cf2f8e4221"
      },
      "source": [
        "df.index"
      ],
      "execution_count": 17,
      "outputs": [
        {
          "output_type": "execute_result",
          "data": {
            "text/plain": [
              "Int64Index([20, 30, 40, 50], dtype='int64')"
            ]
          },
          "metadata": {
            "tags": []
          },
          "execution_count": 17
        }
      ]
    },
    {
      "cell_type": "code",
      "metadata": {
        "colab": {
          "base_uri": "https://localhost:8080/",
          "height": 173
        },
        "id": "wkVOy97_9tz-",
        "outputId": "c4aee573-4565-4b4d-ea72-0642a1f7c3f8"
      },
      "source": [
        "#Alterar o index do df\n",
        "df.index = ['a', 'b', 'c', 'd']\n",
        "\n",
        "df"
      ],
      "execution_count": 19,
      "outputs": [
        {
          "output_type": "execute_result",
          "data": {
            "text/html": [
              "<div>\n",
              "<style scoped>\n",
              "    .dataframe tbody tr th:only-of-type {\n",
              "        vertical-align: middle;\n",
              "    }\n",
              "\n",
              "    .dataframe tbody tr th {\n",
              "        vertical-align: top;\n",
              "    }\n",
              "\n",
              "    .dataframe thead th {\n",
              "        text-align: right;\n",
              "    }\n",
              "</style>\n",
              "<table border=\"1\" class=\"dataframe\">\n",
              "  <thead>\n",
              "    <tr style=\"text-align: right;\">\n",
              "      <th></th>\n",
              "      <th>Nome</th>\n",
              "      <th>Idade</th>\n",
              "      <th>Cidade</th>\n",
              "      <th>Compras</th>\n",
              "      <th>Saldo</th>\n",
              "    </tr>\n",
              "  </thead>\n",
              "  <tbody>\n",
              "    <tr>\n",
              "      <th>a</th>\n",
              "      <td>Emanuel</td>\n",
              "      <td>37</td>\n",
              "      <td>Olinda</td>\n",
              "      <td>True</td>\n",
              "      <td>0.0</td>\n",
              "    </tr>\n",
              "    <tr>\n",
              "      <th>b</th>\n",
              "      <td>Anelisa</td>\n",
              "      <td>34</td>\n",
              "      <td>Santa Maria</td>\n",
              "      <td>True</td>\n",
              "      <td>0.0</td>\n",
              "    </tr>\n",
              "    <tr>\n",
              "      <th>c</th>\n",
              "      <td>Marisa</td>\n",
              "      <td>62</td>\n",
              "      <td>Santa Maria</td>\n",
              "      <td>False</td>\n",
              "      <td>0.0</td>\n",
              "    </tr>\n",
              "    <tr>\n",
              "      <th>d</th>\n",
              "      <td>Cesar</td>\n",
              "      <td>65</td>\n",
              "      <td>Caxias do Sul</td>\n",
              "      <td>False</td>\n",
              "      <td>0.0</td>\n",
              "    </tr>\n",
              "  </tbody>\n",
              "</table>\n",
              "</div>"
            ],
            "text/plain": [
              "      Nome  Idade         Cidade Compras  Saldo\n",
              "a  Emanuel     37         Olinda    True    0.0\n",
              "b  Anelisa     34    Santa Maria    True    0.0\n",
              "c   Marisa     62    Santa Maria   False    0.0\n",
              "d    Cesar     65  Caxias do Sul   False    0.0"
            ]
          },
          "metadata": {
            "tags": []
          },
          "execution_count": 19
        }
      ]
    },
    {
      "cell_type": "markdown",
      "metadata": {
        "id": "toO0EpvS-xdV"
      },
      "source": [
        "Da mesma maneira, se eu precisar alterar o nome das colunas, posso alterar diretamente no atributo da variável:"
      ]
    },
    {
      "cell_type": "code",
      "metadata": {
        "colab": {
          "base_uri": "https://localhost:8080/",
          "height": 173
        },
        "id": "VPgL7bYq-zwI",
        "outputId": "a2194ddf-5896-473b-c887-ee162ca90eb6"
      },
      "source": [
        "#alterar labels das colunas\n",
        "df.columns = ['Nome', 'Idade', 'Nascimento', 'Compras', 'Saldo disponível']\n",
        "\n",
        "df"
      ],
      "execution_count": 22,
      "outputs": [
        {
          "output_type": "execute_result",
          "data": {
            "text/html": [
              "<div>\n",
              "<style scoped>\n",
              "    .dataframe tbody tr th:only-of-type {\n",
              "        vertical-align: middle;\n",
              "    }\n",
              "\n",
              "    .dataframe tbody tr th {\n",
              "        vertical-align: top;\n",
              "    }\n",
              "\n",
              "    .dataframe thead th {\n",
              "        text-align: right;\n",
              "    }\n",
              "</style>\n",
              "<table border=\"1\" class=\"dataframe\">\n",
              "  <thead>\n",
              "    <tr style=\"text-align: right;\">\n",
              "      <th></th>\n",
              "      <th>Nome</th>\n",
              "      <th>Idade</th>\n",
              "      <th>Nascimento</th>\n",
              "      <th>Compras</th>\n",
              "      <th>Saldo disponível</th>\n",
              "    </tr>\n",
              "  </thead>\n",
              "  <tbody>\n",
              "    <tr>\n",
              "      <th>a</th>\n",
              "      <td>Emanuel</td>\n",
              "      <td>37</td>\n",
              "      <td>Olinda</td>\n",
              "      <td>True</td>\n",
              "      <td>0.0</td>\n",
              "    </tr>\n",
              "    <tr>\n",
              "      <th>b</th>\n",
              "      <td>Anelisa</td>\n",
              "      <td>34</td>\n",
              "      <td>Santa Maria</td>\n",
              "      <td>True</td>\n",
              "      <td>0.0</td>\n",
              "    </tr>\n",
              "    <tr>\n",
              "      <th>c</th>\n",
              "      <td>Marisa</td>\n",
              "      <td>62</td>\n",
              "      <td>Santa Maria</td>\n",
              "      <td>False</td>\n",
              "      <td>0.0</td>\n",
              "    </tr>\n",
              "    <tr>\n",
              "      <th>d</th>\n",
              "      <td>Cesar</td>\n",
              "      <td>65</td>\n",
              "      <td>Caxias do Sul</td>\n",
              "      <td>False</td>\n",
              "      <td>0.0</td>\n",
              "    </tr>\n",
              "  </tbody>\n",
              "</table>\n",
              "</div>"
            ],
            "text/plain": [
              "      Nome  Idade     Nascimento Compras  Saldo disponível\n",
              "a  Emanuel     37         Olinda    True               0.0\n",
              "b  Anelisa     34    Santa Maria    True               0.0\n",
              "c   Marisa     62    Santa Maria   False               0.0\n",
              "d    Cesar     65  Caxias do Sul   False               0.0"
            ]
          },
          "metadata": {
            "tags": []
          },
          "execution_count": 22
        }
      ]
    }
  ]
}